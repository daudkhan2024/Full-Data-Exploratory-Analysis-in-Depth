{
 "cells": [
  {
   "cell_type": "code",
   "execution_count": 1,
   "id": "6a2a0ac8",
   "metadata": {},
   "outputs": [],
   "source": [
    "import pandas as pd\n",
    "import seaborn as sns\n",
    "import matplotlib.pyplot as plt\n",
    "import numpy as np"
   ]
  },
  {
   "cell_type": "code",
   "execution_count": 2,
   "id": "f3782ff0",
   "metadata": {},
   "outputs": [],
   "source": [
    "covid_19 = pd.read_csv('../../datasets/covid_19_data.csv')\n"
   ]
  },
  {
   "cell_type": "code",
   "execution_count": 3,
   "id": "e13b2b2d",
   "metadata": {},
   "outputs": [
    {
     "data": {
      "text/html": [
       "<div>\n",
       "<style scoped>\n",
       "    .dataframe tbody tr th:only-of-type {\n",
       "        vertical-align: middle;\n",
       "    }\n",
       "\n",
       "    .dataframe tbody tr th {\n",
       "        vertical-align: top;\n",
       "    }\n",
       "\n",
       "    .dataframe thead th {\n",
       "        text-align: right;\n",
       "    }\n",
       "</style>\n",
       "<table border=\"1\" class=\"dataframe\">\n",
       "  <thead>\n",
       "    <tr style=\"text-align: right;\">\n",
       "      <th></th>\n",
       "      <th>SNo</th>\n",
       "      <th>ObservationDate</th>\n",
       "      <th>Province/State</th>\n",
       "      <th>Country/Region</th>\n",
       "      <th>Last Update</th>\n",
       "      <th>Confirmed</th>\n",
       "      <th>Deaths</th>\n",
       "      <th>Recovered</th>\n",
       "    </tr>\n",
       "  </thead>\n",
       "  <tbody>\n",
       "    <tr>\n",
       "      <th>0</th>\n",
       "      <td>1</td>\n",
       "      <td>01/22/2020</td>\n",
       "      <td>Anhui</td>\n",
       "      <td>Mainland China</td>\n",
       "      <td>1/22/2020 17:00</td>\n",
       "      <td>1.0</td>\n",
       "      <td>0.0</td>\n",
       "      <td>0.0</td>\n",
       "    </tr>\n",
       "    <tr>\n",
       "      <th>1</th>\n",
       "      <td>2</td>\n",
       "      <td>01/22/2020</td>\n",
       "      <td>Beijing</td>\n",
       "      <td>Mainland China</td>\n",
       "      <td>1/22/2020 17:00</td>\n",
       "      <td>14.0</td>\n",
       "      <td>0.0</td>\n",
       "      <td>0.0</td>\n",
       "    </tr>\n",
       "    <tr>\n",
       "      <th>2</th>\n",
       "      <td>3</td>\n",
       "      <td>01/22/2020</td>\n",
       "      <td>Chongqing</td>\n",
       "      <td>Mainland China</td>\n",
       "      <td>1/22/2020 17:00</td>\n",
       "      <td>6.0</td>\n",
       "      <td>0.0</td>\n",
       "      <td>0.0</td>\n",
       "    </tr>\n",
       "    <tr>\n",
       "      <th>3</th>\n",
       "      <td>4</td>\n",
       "      <td>01/22/2020</td>\n",
       "      <td>Fujian</td>\n",
       "      <td>Mainland China</td>\n",
       "      <td>1/22/2020 17:00</td>\n",
       "      <td>1.0</td>\n",
       "      <td>0.0</td>\n",
       "      <td>0.0</td>\n",
       "    </tr>\n",
       "    <tr>\n",
       "      <th>4</th>\n",
       "      <td>5</td>\n",
       "      <td>01/22/2020</td>\n",
       "      <td>Gansu</td>\n",
       "      <td>Mainland China</td>\n",
       "      <td>1/22/2020 17:00</td>\n",
       "      <td>0.0</td>\n",
       "      <td>0.0</td>\n",
       "      <td>0.0</td>\n",
       "    </tr>\n",
       "    <tr>\n",
       "      <th>...</th>\n",
       "      <td>...</td>\n",
       "      <td>...</td>\n",
       "      <td>...</td>\n",
       "      <td>...</td>\n",
       "      <td>...</td>\n",
       "      <td>...</td>\n",
       "      <td>...</td>\n",
       "      <td>...</td>\n",
       "    </tr>\n",
       "    <tr>\n",
       "      <th>306424</th>\n",
       "      <td>306425</td>\n",
       "      <td>05/29/2021</td>\n",
       "      <td>Zaporizhia Oblast</td>\n",
       "      <td>Ukraine</td>\n",
       "      <td>2021-05-30 04:20:55</td>\n",
       "      <td>102641.0</td>\n",
       "      <td>2335.0</td>\n",
       "      <td>95289.0</td>\n",
       "    </tr>\n",
       "    <tr>\n",
       "      <th>306425</th>\n",
       "      <td>306426</td>\n",
       "      <td>05/29/2021</td>\n",
       "      <td>Zeeland</td>\n",
       "      <td>Netherlands</td>\n",
       "      <td>2021-05-30 04:20:55</td>\n",
       "      <td>29147.0</td>\n",
       "      <td>245.0</td>\n",
       "      <td>0.0</td>\n",
       "    </tr>\n",
       "    <tr>\n",
       "      <th>306426</th>\n",
       "      <td>306427</td>\n",
       "      <td>05/29/2021</td>\n",
       "      <td>Zhejiang</td>\n",
       "      <td>Mainland China</td>\n",
       "      <td>2021-05-30 04:20:55</td>\n",
       "      <td>1364.0</td>\n",
       "      <td>1.0</td>\n",
       "      <td>1324.0</td>\n",
       "    </tr>\n",
       "    <tr>\n",
       "      <th>306427</th>\n",
       "      <td>306428</td>\n",
       "      <td>05/29/2021</td>\n",
       "      <td>Zhytomyr Oblast</td>\n",
       "      <td>Ukraine</td>\n",
       "      <td>2021-05-30 04:20:55</td>\n",
       "      <td>87550.0</td>\n",
       "      <td>1738.0</td>\n",
       "      <td>83790.0</td>\n",
       "    </tr>\n",
       "    <tr>\n",
       "      <th>306428</th>\n",
       "      <td>306429</td>\n",
       "      <td>05/29/2021</td>\n",
       "      <td>Zuid-Holland</td>\n",
       "      <td>Netherlands</td>\n",
       "      <td>2021-05-30 04:20:55</td>\n",
       "      <td>391559.0</td>\n",
       "      <td>4252.0</td>\n",
       "      <td>0.0</td>\n",
       "    </tr>\n",
       "  </tbody>\n",
       "</table>\n",
       "<p>306429 rows × 8 columns</p>\n",
       "</div>"
      ],
      "text/plain": [
       "           SNo ObservationDate     Province/State  Country/Region  \\\n",
       "0            1      01/22/2020              Anhui  Mainland China   \n",
       "1            2      01/22/2020            Beijing  Mainland China   \n",
       "2            3      01/22/2020          Chongqing  Mainland China   \n",
       "3            4      01/22/2020             Fujian  Mainland China   \n",
       "4            5      01/22/2020              Gansu  Mainland China   \n",
       "...        ...             ...                ...             ...   \n",
       "306424  306425      05/29/2021  Zaporizhia Oblast         Ukraine   \n",
       "306425  306426      05/29/2021            Zeeland     Netherlands   \n",
       "306426  306427      05/29/2021           Zhejiang  Mainland China   \n",
       "306427  306428      05/29/2021    Zhytomyr Oblast         Ukraine   \n",
       "306428  306429      05/29/2021       Zuid-Holland     Netherlands   \n",
       "\n",
       "                Last Update  Confirmed  Deaths  Recovered  \n",
       "0           1/22/2020 17:00        1.0     0.0        0.0  \n",
       "1           1/22/2020 17:00       14.0     0.0        0.0  \n",
       "2           1/22/2020 17:00        6.0     0.0        0.0  \n",
       "3           1/22/2020 17:00        1.0     0.0        0.0  \n",
       "4           1/22/2020 17:00        0.0     0.0        0.0  \n",
       "...                     ...        ...     ...        ...  \n",
       "306424  2021-05-30 04:20:55   102641.0  2335.0    95289.0  \n",
       "306425  2021-05-30 04:20:55    29147.0   245.0        0.0  \n",
       "306426  2021-05-30 04:20:55     1364.0     1.0     1324.0  \n",
       "306427  2021-05-30 04:20:55    87550.0  1738.0    83790.0  \n",
       "306428  2021-05-30 04:20:55   391559.0  4252.0        0.0  \n",
       "\n",
       "[306429 rows x 8 columns]"
      ]
     },
     "execution_count": 3,
     "metadata": {},
     "output_type": "execute_result"
    }
   ],
   "source": [
    "covid_19"
   ]
  },
  {
   "cell_type": "code",
   "execution_count": 4,
   "id": "91e34a15",
   "metadata": {},
   "outputs": [],
   "source": [
    "# There are 306429 rows and 8 colums which is also a good Dataset to Explore insights \n",
    "#we dont need SNo. lets drop it first"
   ]
  },
  {
   "cell_type": "code",
   "execution_count": 5,
   "id": "9edd5bcb",
   "metadata": {},
   "outputs": [],
   "source": [
    "covid_19.drop('SNo', axis=1, inplace=True)\n"
   ]
  },
  {
   "cell_type": "markdown",
   "id": "e726638c",
   "metadata": {},
   "source": [
    "* Overall analysis and looking at Data first"
   ]
  },
  {
   "cell_type": "code",
   "execution_count": 6,
   "id": "1176131f",
   "metadata": {},
   "outputs": [
    {
     "name": "stdout",
     "output_type": "stream",
     "text": [
      "<class 'pandas.core.frame.DataFrame'>\n",
      "RangeIndex: 306429 entries, 0 to 306428\n",
      "Data columns (total 7 columns):\n",
      " #   Column           Non-Null Count   Dtype  \n",
      "---  ------           --------------   -----  \n",
      " 0   ObservationDate  306429 non-null  object \n",
      " 1   Province/State   228329 non-null  object \n",
      " 2   Country/Region   306429 non-null  object \n",
      " 3   Last Update      306429 non-null  object \n",
      " 4   Confirmed        306429 non-null  float64\n",
      " 5   Deaths           306429 non-null  float64\n",
      " 6   Recovered        306429 non-null  float64\n",
      "dtypes: float64(3), object(4)\n",
      "memory usage: 16.4+ MB\n"
     ]
    }
   ],
   "source": [
    "covid_19.info()"
   ]
  },
  {
   "cell_type": "code",
   "execution_count": 7,
   "id": "323a325e",
   "metadata": {},
   "outputs": [],
   "source": [
    "# here we saw that more then half colums are catagorical"
   ]
  },
  {
   "cell_type": "markdown",
   "id": "bec12ffd",
   "metadata": {},
   "source": [
    "* Checking Missing / Null Values"
   ]
  },
  {
   "cell_type": "code",
   "execution_count": 8,
   "id": "e14b2093",
   "metadata": {},
   "outputs": [
    {
     "data": {
      "text/plain": [
       "ObservationDate        0\n",
       "Province/State     78100\n",
       "Country/Region         0\n",
       "Last Update            0\n",
       "Confirmed              0\n",
       "Deaths                 0\n",
       "Recovered              0\n",
       "dtype: int64"
      ]
     },
     "execution_count": 8,
     "metadata": {},
     "output_type": "execute_result"
    }
   ],
   "source": [
    "covid_19.isnull().sum()"
   ]
  },
  {
   "cell_type": "code",
   "execution_count": 9,
   "id": "343e3d7a",
   "metadata": {},
   "outputs": [],
   "source": [
    "# This Data Set Province/state contains  missing or nan values"
   ]
  },
  {
   "cell_type": "code",
   "execution_count": 10,
   "id": "0f4ac16b",
   "metadata": {},
   "outputs": [
    {
     "data": {
      "text/html": [
       "<div>\n",
       "<style scoped>\n",
       "    .dataframe tbody tr th:only-of-type {\n",
       "        vertical-align: middle;\n",
       "    }\n",
       "\n",
       "    .dataframe tbody tr th {\n",
       "        vertical-align: top;\n",
       "    }\n",
       "\n",
       "    .dataframe thead th {\n",
       "        text-align: right;\n",
       "    }\n",
       "</style>\n",
       "<table border=\"1\" class=\"dataframe\">\n",
       "  <thead>\n",
       "    <tr style=\"text-align: right;\">\n",
       "      <th></th>\n",
       "      <th>ObservationDate</th>\n",
       "      <th>Province/State</th>\n",
       "      <th>Country/Region</th>\n",
       "      <th>Last Update</th>\n",
       "      <th>Confirmed</th>\n",
       "      <th>Deaths</th>\n",
       "      <th>Recovered</th>\n",
       "    </tr>\n",
       "  </thead>\n",
       "  <tbody>\n",
       "    <tr>\n",
       "      <th>0</th>\n",
       "      <td>False</td>\n",
       "      <td>False</td>\n",
       "      <td>False</td>\n",
       "      <td>False</td>\n",
       "      <td>False</td>\n",
       "      <td>False</td>\n",
       "      <td>False</td>\n",
       "    </tr>\n",
       "    <tr>\n",
       "      <th>1</th>\n",
       "      <td>False</td>\n",
       "      <td>False</td>\n",
       "      <td>False</td>\n",
       "      <td>False</td>\n",
       "      <td>False</td>\n",
       "      <td>False</td>\n",
       "      <td>False</td>\n",
       "    </tr>\n",
       "    <tr>\n",
       "      <th>2</th>\n",
       "      <td>False</td>\n",
       "      <td>False</td>\n",
       "      <td>False</td>\n",
       "      <td>False</td>\n",
       "      <td>False</td>\n",
       "      <td>False</td>\n",
       "      <td>False</td>\n",
       "    </tr>\n",
       "    <tr>\n",
       "      <th>3</th>\n",
       "      <td>False</td>\n",
       "      <td>False</td>\n",
       "      <td>False</td>\n",
       "      <td>False</td>\n",
       "      <td>False</td>\n",
       "      <td>False</td>\n",
       "      <td>False</td>\n",
       "    </tr>\n",
       "    <tr>\n",
       "      <th>4</th>\n",
       "      <td>False</td>\n",
       "      <td>False</td>\n",
       "      <td>False</td>\n",
       "      <td>False</td>\n",
       "      <td>False</td>\n",
       "      <td>False</td>\n",
       "      <td>False</td>\n",
       "    </tr>\n",
       "    <tr>\n",
       "      <th>...</th>\n",
       "      <td>...</td>\n",
       "      <td>...</td>\n",
       "      <td>...</td>\n",
       "      <td>...</td>\n",
       "      <td>...</td>\n",
       "      <td>...</td>\n",
       "      <td>...</td>\n",
       "    </tr>\n",
       "    <tr>\n",
       "      <th>306424</th>\n",
       "      <td>False</td>\n",
       "      <td>False</td>\n",
       "      <td>False</td>\n",
       "      <td>False</td>\n",
       "      <td>False</td>\n",
       "      <td>False</td>\n",
       "      <td>False</td>\n",
       "    </tr>\n",
       "    <tr>\n",
       "      <th>306425</th>\n",
       "      <td>False</td>\n",
       "      <td>False</td>\n",
       "      <td>False</td>\n",
       "      <td>False</td>\n",
       "      <td>False</td>\n",
       "      <td>False</td>\n",
       "      <td>False</td>\n",
       "    </tr>\n",
       "    <tr>\n",
       "      <th>306426</th>\n",
       "      <td>False</td>\n",
       "      <td>False</td>\n",
       "      <td>False</td>\n",
       "      <td>False</td>\n",
       "      <td>False</td>\n",
       "      <td>False</td>\n",
       "      <td>False</td>\n",
       "    </tr>\n",
       "    <tr>\n",
       "      <th>306427</th>\n",
       "      <td>False</td>\n",
       "      <td>False</td>\n",
       "      <td>False</td>\n",
       "      <td>False</td>\n",
       "      <td>False</td>\n",
       "      <td>False</td>\n",
       "      <td>False</td>\n",
       "    </tr>\n",
       "    <tr>\n",
       "      <th>306428</th>\n",
       "      <td>False</td>\n",
       "      <td>False</td>\n",
       "      <td>False</td>\n",
       "      <td>False</td>\n",
       "      <td>False</td>\n",
       "      <td>False</td>\n",
       "      <td>False</td>\n",
       "    </tr>\n",
       "  </tbody>\n",
       "</table>\n",
       "<p>306429 rows × 7 columns</p>\n",
       "</div>"
      ],
      "text/plain": [
       "        ObservationDate  Province/State  Country/Region  Last Update  \\\n",
       "0                 False           False           False        False   \n",
       "1                 False           False           False        False   \n",
       "2                 False           False           False        False   \n",
       "3                 False           False           False        False   \n",
       "4                 False           False           False        False   \n",
       "...                 ...             ...             ...          ...   \n",
       "306424            False           False           False        False   \n",
       "306425            False           False           False        False   \n",
       "306426            False           False           False        False   \n",
       "306427            False           False           False        False   \n",
       "306428            False           False           False        False   \n",
       "\n",
       "        Confirmed  Deaths  Recovered  \n",
       "0           False   False      False  \n",
       "1           False   False      False  \n",
       "2           False   False      False  \n",
       "3           False   False      False  \n",
       "4           False   False      False  \n",
       "...           ...     ...        ...  \n",
       "306424      False   False      False  \n",
       "306425      False   False      False  \n",
       "306426      False   False      False  \n",
       "306427      False   False      False  \n",
       "306428      False   False      False  \n",
       "\n",
       "[306429 rows x 7 columns]"
      ]
     },
     "execution_count": 10,
     "metadata": {},
     "output_type": "execute_result"
    }
   ],
   "source": [
    "covid_19.isnull()"
   ]
  },
  {
   "cell_type": "code",
   "execution_count": 11,
   "id": "5da72dc0",
   "metadata": {},
   "outputs": [],
   "source": [
    "# now we see it in bool form"
   ]
  },
  {
   "cell_type": "markdown",
   "id": "ab066114",
   "metadata": {},
   "source": [
    "### In EDA things we have to do are:\n",
    "+ 1 Find missing values and treat them\n",
    "+ 2 Explore about numerical variables\n",
    "+ 3 Explore about catagorical variables\n",
    "+ 4 Finding Relationship between Features"
   ]
  },
  {
   "cell_type": "code",
   "execution_count": 12,
   "id": "ad385375",
   "metadata": {},
   "outputs": [],
   "source": [
    "#we can either drop the colum or we can either use .dropna method to drop all the Null values or missing \n",
    "# from data set"
   ]
  },
  {
   "cell_type": "code",
   "execution_count": 13,
   "id": "b9172425",
   "metadata": {},
   "outputs": [],
   "source": [
    "covid_19.dropna(axis= 0, inplace=True)"
   ]
  },
  {
   "cell_type": "code",
   "execution_count": 14,
   "id": "4d183c24",
   "metadata": {},
   "outputs": [],
   "source": [
    "# we have dropped the all null values and now lets check"
   ]
  },
  {
   "cell_type": "code",
   "execution_count": 15,
   "id": "72db3bb1",
   "metadata": {},
   "outputs": [
    {
     "data": {
      "text/html": [
       "<div>\n",
       "<style scoped>\n",
       "    .dataframe tbody tr th:only-of-type {\n",
       "        vertical-align: middle;\n",
       "    }\n",
       "\n",
       "    .dataframe tbody tr th {\n",
       "        vertical-align: top;\n",
       "    }\n",
       "\n",
       "    .dataframe thead th {\n",
       "        text-align: right;\n",
       "    }\n",
       "</style>\n",
       "<table border=\"1\" class=\"dataframe\">\n",
       "  <thead>\n",
       "    <tr style=\"text-align: right;\">\n",
       "      <th></th>\n",
       "      <th>ObservationDate</th>\n",
       "      <th>Province/State</th>\n",
       "      <th>Country/Region</th>\n",
       "      <th>Last Update</th>\n",
       "      <th>Confirmed</th>\n",
       "      <th>Deaths</th>\n",
       "      <th>Recovered</th>\n",
       "    </tr>\n",
       "  </thead>\n",
       "  <tbody>\n",
       "    <tr>\n",
       "      <th>0</th>\n",
       "      <td>01/22/2020</td>\n",
       "      <td>Anhui</td>\n",
       "      <td>Mainland China</td>\n",
       "      <td>1/22/2020 17:00</td>\n",
       "      <td>1.0</td>\n",
       "      <td>0.0</td>\n",
       "      <td>0.0</td>\n",
       "    </tr>\n",
       "    <tr>\n",
       "      <th>1</th>\n",
       "      <td>01/22/2020</td>\n",
       "      <td>Beijing</td>\n",
       "      <td>Mainland China</td>\n",
       "      <td>1/22/2020 17:00</td>\n",
       "      <td>14.0</td>\n",
       "      <td>0.0</td>\n",
       "      <td>0.0</td>\n",
       "    </tr>\n",
       "    <tr>\n",
       "      <th>2</th>\n",
       "      <td>01/22/2020</td>\n",
       "      <td>Chongqing</td>\n",
       "      <td>Mainland China</td>\n",
       "      <td>1/22/2020 17:00</td>\n",
       "      <td>6.0</td>\n",
       "      <td>0.0</td>\n",
       "      <td>0.0</td>\n",
       "    </tr>\n",
       "    <tr>\n",
       "      <th>3</th>\n",
       "      <td>01/22/2020</td>\n",
       "      <td>Fujian</td>\n",
       "      <td>Mainland China</td>\n",
       "      <td>1/22/2020 17:00</td>\n",
       "      <td>1.0</td>\n",
       "      <td>0.0</td>\n",
       "      <td>0.0</td>\n",
       "    </tr>\n",
       "    <tr>\n",
       "      <th>4</th>\n",
       "      <td>01/22/2020</td>\n",
       "      <td>Gansu</td>\n",
       "      <td>Mainland China</td>\n",
       "      <td>1/22/2020 17:00</td>\n",
       "      <td>0.0</td>\n",
       "      <td>0.0</td>\n",
       "      <td>0.0</td>\n",
       "    </tr>\n",
       "    <tr>\n",
       "      <th>...</th>\n",
       "      <td>...</td>\n",
       "      <td>...</td>\n",
       "      <td>...</td>\n",
       "      <td>...</td>\n",
       "      <td>...</td>\n",
       "      <td>...</td>\n",
       "      <td>...</td>\n",
       "    </tr>\n",
       "    <tr>\n",
       "      <th>306424</th>\n",
       "      <td>05/29/2021</td>\n",
       "      <td>Zaporizhia Oblast</td>\n",
       "      <td>Ukraine</td>\n",
       "      <td>2021-05-30 04:20:55</td>\n",
       "      <td>102641.0</td>\n",
       "      <td>2335.0</td>\n",
       "      <td>95289.0</td>\n",
       "    </tr>\n",
       "    <tr>\n",
       "      <th>306425</th>\n",
       "      <td>05/29/2021</td>\n",
       "      <td>Zeeland</td>\n",
       "      <td>Netherlands</td>\n",
       "      <td>2021-05-30 04:20:55</td>\n",
       "      <td>29147.0</td>\n",
       "      <td>245.0</td>\n",
       "      <td>0.0</td>\n",
       "    </tr>\n",
       "    <tr>\n",
       "      <th>306426</th>\n",
       "      <td>05/29/2021</td>\n",
       "      <td>Zhejiang</td>\n",
       "      <td>Mainland China</td>\n",
       "      <td>2021-05-30 04:20:55</td>\n",
       "      <td>1364.0</td>\n",
       "      <td>1.0</td>\n",
       "      <td>1324.0</td>\n",
       "    </tr>\n",
       "    <tr>\n",
       "      <th>306427</th>\n",
       "      <td>05/29/2021</td>\n",
       "      <td>Zhytomyr Oblast</td>\n",
       "      <td>Ukraine</td>\n",
       "      <td>2021-05-30 04:20:55</td>\n",
       "      <td>87550.0</td>\n",
       "      <td>1738.0</td>\n",
       "      <td>83790.0</td>\n",
       "    </tr>\n",
       "    <tr>\n",
       "      <th>306428</th>\n",
       "      <td>05/29/2021</td>\n",
       "      <td>Zuid-Holland</td>\n",
       "      <td>Netherlands</td>\n",
       "      <td>2021-05-30 04:20:55</td>\n",
       "      <td>391559.0</td>\n",
       "      <td>4252.0</td>\n",
       "      <td>0.0</td>\n",
       "    </tr>\n",
       "  </tbody>\n",
       "</table>\n",
       "<p>228329 rows × 7 columns</p>\n",
       "</div>"
      ],
      "text/plain": [
       "       ObservationDate     Province/State  Country/Region  \\\n",
       "0           01/22/2020              Anhui  Mainland China   \n",
       "1           01/22/2020            Beijing  Mainland China   \n",
       "2           01/22/2020          Chongqing  Mainland China   \n",
       "3           01/22/2020             Fujian  Mainland China   \n",
       "4           01/22/2020              Gansu  Mainland China   \n",
       "...                ...                ...             ...   \n",
       "306424      05/29/2021  Zaporizhia Oblast         Ukraine   \n",
       "306425      05/29/2021            Zeeland     Netherlands   \n",
       "306426      05/29/2021           Zhejiang  Mainland China   \n",
       "306427      05/29/2021    Zhytomyr Oblast         Ukraine   \n",
       "306428      05/29/2021       Zuid-Holland     Netherlands   \n",
       "\n",
       "                Last Update  Confirmed  Deaths  Recovered  \n",
       "0           1/22/2020 17:00        1.0     0.0        0.0  \n",
       "1           1/22/2020 17:00       14.0     0.0        0.0  \n",
       "2           1/22/2020 17:00        6.0     0.0        0.0  \n",
       "3           1/22/2020 17:00        1.0     0.0        0.0  \n",
       "4           1/22/2020 17:00        0.0     0.0        0.0  \n",
       "...                     ...        ...     ...        ...  \n",
       "306424  2021-05-30 04:20:55   102641.0  2335.0    95289.0  \n",
       "306425  2021-05-30 04:20:55    29147.0   245.0        0.0  \n",
       "306426  2021-05-30 04:20:55     1364.0     1.0     1324.0  \n",
       "306427  2021-05-30 04:20:55    87550.0  1738.0    83790.0  \n",
       "306428  2021-05-30 04:20:55   391559.0  4252.0        0.0  \n",
       "\n",
       "[228329 rows x 7 columns]"
      ]
     },
     "execution_count": 15,
     "metadata": {},
     "output_type": "execute_result"
    }
   ],
   "source": [
    "covid_19"
   ]
  },
  {
   "cell_type": "code",
   "execution_count": 16,
   "id": "84dd74b8",
   "metadata": {},
   "outputs": [],
   "source": [
    "#The  values are dropped"
   ]
  },
  {
   "cell_type": "markdown",
   "id": "b2fbc178",
   "metadata": {},
   "source": [
    "+ Statistic of The Dataset"
   ]
  },
  {
   "cell_type": "code",
   "execution_count": 17,
   "id": "843a286d",
   "metadata": {},
   "outputs": [
    {
     "data": {
      "text/html": [
       "<div>\n",
       "<style scoped>\n",
       "    .dataframe tbody tr th:only-of-type {\n",
       "        vertical-align: middle;\n",
       "    }\n",
       "\n",
       "    .dataframe tbody tr th {\n",
       "        vertical-align: top;\n",
       "    }\n",
       "\n",
       "    .dataframe thead th {\n",
       "        text-align: right;\n",
       "    }\n",
       "</style>\n",
       "<table border=\"1\" class=\"dataframe\">\n",
       "  <thead>\n",
       "    <tr style=\"text-align: right;\">\n",
       "      <th></th>\n",
       "      <th>Confirmed</th>\n",
       "      <th>Deaths</th>\n",
       "      <th>Recovered</th>\n",
       "    </tr>\n",
       "  </thead>\n",
       "  <tbody>\n",
       "    <tr>\n",
       "      <th>count</th>\n",
       "      <td>2.283290e+05</td>\n",
       "      <td>228329.000000</td>\n",
       "      <td>2.283290e+05</td>\n",
       "    </tr>\n",
       "    <tr>\n",
       "      <th>mean</th>\n",
       "      <td>8.021276e+04</td>\n",
       "      <td>1961.347503</td>\n",
       "      <td>4.184290e+04</td>\n",
       "    </tr>\n",
       "    <tr>\n",
       "      <th>std</th>\n",
       "      <td>2.493646e+05</td>\n",
       "      <td>5871.902776</td>\n",
       "      <td>1.793659e+05</td>\n",
       "    </tr>\n",
       "    <tr>\n",
       "      <th>min</th>\n",
       "      <td>-3.028440e+05</td>\n",
       "      <td>-178.000000</td>\n",
       "      <td>-8.544050e+05</td>\n",
       "    </tr>\n",
       "    <tr>\n",
       "      <th>25%</th>\n",
       "      <td>1.224000e+03</td>\n",
       "      <td>15.000000</td>\n",
       "      <td>0.000000e+00</td>\n",
       "    </tr>\n",
       "    <tr>\n",
       "      <th>50%</th>\n",
       "      <td>1.175600e+04</td>\n",
       "      <td>234.000000</td>\n",
       "      <td>1.211000e+03</td>\n",
       "    </tr>\n",
       "    <tr>\n",
       "      <th>75%</th>\n",
       "      <td>4.840900e+04</td>\n",
       "      <td>1411.000000</td>\n",
       "      <td>1.660200e+04</td>\n",
       "    </tr>\n",
       "    <tr>\n",
       "      <th>max</th>\n",
       "      <td>5.713215e+06</td>\n",
       "      <td>112385.000000</td>\n",
       "      <td>6.399531e+06</td>\n",
       "    </tr>\n",
       "  </tbody>\n",
       "</table>\n",
       "</div>"
      ],
      "text/plain": [
       "          Confirmed         Deaths     Recovered\n",
       "count  2.283290e+05  228329.000000  2.283290e+05\n",
       "mean   8.021276e+04    1961.347503  4.184290e+04\n",
       "std    2.493646e+05    5871.902776  1.793659e+05\n",
       "min   -3.028440e+05    -178.000000 -8.544050e+05\n",
       "25%    1.224000e+03      15.000000  0.000000e+00\n",
       "50%    1.175600e+04     234.000000  1.211000e+03\n",
       "75%    4.840900e+04    1411.000000  1.660200e+04\n",
       "max    5.713215e+06  112385.000000  6.399531e+06"
      ]
     },
     "execution_count": 17,
     "metadata": {},
     "output_type": "execute_result"
    }
   ],
   "source": [
    "covid_19.describe()"
   ]
  },
  {
   "cell_type": "code",
   "execution_count": 18,
   "id": "2f403113",
   "metadata": {},
   "outputs": [],
   "source": [
    "# by describe it will show only integer features colums no text or catagorical"
   ]
  },
  {
   "cell_type": "code",
   "execution_count": 19,
   "id": "300d447d",
   "metadata": {},
   "outputs": [
    {
     "data": {
      "text/plain": [
       "<AxesSubplot:>"
      ]
     },
     "execution_count": 19,
     "metadata": {},
     "output_type": "execute_result"
    },
    {
     "data": {
      "image/png": "[encoded data removed]",
      "text/plain": [
       "<Figure size 432x288 with 1 Axes>"
      ]
     },
     "metadata": {
      "needs_background": "light"
     },
     "output_type": "display_data"
    }
   ],
   "source": [
    "sns.heatmap(covid_19.isnull(),yticklabels=False,cbar=False,cmap='viridis')"
   ]
  },
  {
   "cell_type": "code",
   "execution_count": 20,
   "id": "269e58ae",
   "metadata": {},
   "outputs": [],
   "source": [
    "#Heatmap is mostly very good in watching null values as it do not have any \n",
    "#so it is not visiable"
   ]
  },
  {
   "cell_type": "code",
   "execution_count": 21,
   "id": "18139d78",
   "metadata": {},
   "outputs": [
    {
     "data": {
      "image/png": "[encoded data removed]",
      "text/plain": [
       "<Figure size 360x360 with 1 Axes>"
      ]
     },
     "metadata": {},
     "output_type": "display_data"
    }
   ],
   "source": [
    "sns.set(rc={\"figure.figsize\":(30, 10)})\n",
    "sns.relplot(\n",
    "    data=covid_19,\n",
    "    x='Country/Region',\n",
    "    y='Deaths'\n",
    ")\n",
    "plt.xticks(rotation=90)\n",
    "plt.show()"
   ]
  },
  {
   "cell_type": "code",
   "execution_count": 22,
   "id": "4873dd22",
   "metadata": {},
   "outputs": [
    {
     "name": "stdout",
     "output_type": "stream",
     "text": [
      "Ukraine\n"
     ]
    }
   ],
   "source": [
    "print(covid_19['Country/Region'].max())\n"
   ]
  },
  {
   "cell_type": "code",
   "execution_count": 23,
   "id": "ec051822",
   "metadata": {},
   "outputs": [],
   "source": [
    "i = covid_19['Country/Region'].max()\n"
   ]
  },
  {
   "cell_type": "code",
   "execution_count": 24,
   "id": "744ce2b9",
   "metadata": {},
   "outputs": [
    {
     "name": "stdout",
     "output_type": "stream",
     "text": [
      "Ukraine\n"
     ]
    }
   ],
   "source": [
    "print(i)"
   ]
  },
  {
   "cell_type": "code",
   "execution_count": 25,
   "id": "eef6680a",
   "metadata": {
    "scrolled": true
   },
   "outputs": [
    {
     "name": "stdout",
     "output_type": "stream",
     "text": [
      "Confirmed    5713215.0\n",
      "Deaths        112385.0\n",
      "Recovered    6399531.0\n",
      "dtype: float64\n"
     ]
    }
   ],
   "source": [
    "print(covid_19.max(numeric_only=True))\n"
   ]
  },
  {
   "cell_type": "code",
   "execution_count": 26,
   "id": "ed55c9f9",
   "metadata": {},
   "outputs": [
    {
     "name": "stdout",
     "output_type": "stream",
     "text": [
      "6399531.0\n"
     ]
    }
   ],
   "source": [
    "print(covid_19.max(numeric_only=True).max())\n"
   ]
  },
  {
   "cell_type": "code",
   "execution_count": 27,
   "id": "7f817605",
   "metadata": {},
   "outputs": [
    {
     "data": {
      "image/png": "[encoded data removed]",
      "text/plain": [
       "<Figure size 2160x720 with 1 Axes>"
      ]
     },
     "metadata": {},
     "output_type": "display_data"
    }
   ],
   "source": [
    "ax = covid_19.plot.area(stacked=False)\n"
   ]
  },
  {
   "cell_type": "code",
   "execution_count": 28,
   "id": "c7fd8e42",
   "metadata": {},
   "outputs": [
    {
     "data": {
      "text/plain": [
       "Index(['ObservationDate', 'Province/State', 'Country/Region', 'Last Update',\n",
       "       'Confirmed', 'Deaths', 'Recovered'],\n",
       "      dtype='object')"
      ]
     },
     "execution_count": 28,
     "metadata": {},
     "output_type": "execute_result"
    }
   ],
   "source": [
    "covid_19.columns"
   ]
  },
  {
   "cell_type": "code",
   "execution_count": 29,
   "id": "71072ea3",
   "metadata": {},
   "outputs": [
    {
     "data": {
      "text/html": [
       "<div>\n",
       "<style scoped>\n",
       "    .dataframe tbody tr th:only-of-type {\n",
       "        vertical-align: middle;\n",
       "    }\n",
       "\n",
       "    .dataframe tbody tr th {\n",
       "        vertical-align: top;\n",
       "    }\n",
       "\n",
       "    .dataframe thead th {\n",
       "        text-align: right;\n",
       "    }\n",
       "</style>\n",
       "<table border=\"1\" class=\"dataframe\">\n",
       "  <thead>\n",
       "    <tr style=\"text-align: right;\">\n",
       "      <th></th>\n",
       "      <th>ObservationDate</th>\n",
       "      <th>Province/State</th>\n",
       "      <th>Country/Region</th>\n",
       "      <th>Last Update</th>\n",
       "      <th>Confirmed</th>\n",
       "      <th>Deaths</th>\n",
       "      <th>Recovered</th>\n",
       "    </tr>\n",
       "  </thead>\n",
       "  <tbody>\n",
       "    <tr>\n",
       "      <th>0</th>\n",
       "      <td>01/22/2020</td>\n",
       "      <td>Anhui</td>\n",
       "      <td>Mainland China</td>\n",
       "      <td>1/22/2020 17:00</td>\n",
       "      <td>1.0</td>\n",
       "      <td>0.0</td>\n",
       "      <td>0.0</td>\n",
       "    </tr>\n",
       "    <tr>\n",
       "      <th>1</th>\n",
       "      <td>01/22/2020</td>\n",
       "      <td>Beijing</td>\n",
       "      <td>Mainland China</td>\n",
       "      <td>1/22/2020 17:00</td>\n",
       "      <td>14.0</td>\n",
       "      <td>0.0</td>\n",
       "      <td>0.0</td>\n",
       "    </tr>\n",
       "    <tr>\n",
       "      <th>2</th>\n",
       "      <td>01/22/2020</td>\n",
       "      <td>Chongqing</td>\n",
       "      <td>Mainland China</td>\n",
       "      <td>1/22/2020 17:00</td>\n",
       "      <td>6.0</td>\n",
       "      <td>0.0</td>\n",
       "      <td>0.0</td>\n",
       "    </tr>\n",
       "    <tr>\n",
       "      <th>3</th>\n",
       "      <td>01/22/2020</td>\n",
       "      <td>Fujian</td>\n",
       "      <td>Mainland China</td>\n",
       "      <td>1/22/2020 17:00</td>\n",
       "      <td>1.0</td>\n",
       "      <td>0.0</td>\n",
       "      <td>0.0</td>\n",
       "    </tr>\n",
       "    <tr>\n",
       "      <th>4</th>\n",
       "      <td>01/22/2020</td>\n",
       "      <td>Gansu</td>\n",
       "      <td>Mainland China</td>\n",
       "      <td>1/22/2020 17:00</td>\n",
       "      <td>0.0</td>\n",
       "      <td>0.0</td>\n",
       "      <td>0.0</td>\n",
       "    </tr>\n",
       "  </tbody>\n",
       "</table>\n",
       "</div>"
      ],
      "text/plain": [
       "  ObservationDate Province/State  Country/Region      Last Update  Confirmed  \\\n",
       "0      01/22/2020          Anhui  Mainland China  1/22/2020 17:00        1.0   \n",
       "1      01/22/2020        Beijing  Mainland China  1/22/2020 17:00       14.0   \n",
       "2      01/22/2020      Chongqing  Mainland China  1/22/2020 17:00        6.0   \n",
       "3      01/22/2020         Fujian  Mainland China  1/22/2020 17:00        1.0   \n",
       "4      01/22/2020          Gansu  Mainland China  1/22/2020 17:00        0.0   \n",
       "\n",
       "   Deaths  Recovered  \n",
       "0     0.0        0.0  \n",
       "1     0.0        0.0  \n",
       "2     0.0        0.0  \n",
       "3     0.0        0.0  \n",
       "4     0.0        0.0  "
      ]
     },
     "execution_count": 29,
     "metadata": {},
     "output_type": "execute_result"
    }
   ],
   "source": [
    "covid_19.head()"
   ]
  },
  {
   "cell_type": "code",
   "execution_count": 30,
   "id": "6eecbd2a",
   "metadata": {},
   "outputs": [
    {
     "data": {
      "text/plain": [
       "Index(['ObservationDate', 'Province/State', 'Country/Region', 'Last Update',\n",
       "       'Confirmed', 'Deaths', 'Recovered'],\n",
       "      dtype='object')"
      ]
     },
     "execution_count": 30,
     "metadata": {},
     "output_type": "execute_result"
    }
   ],
   "source": [
    "covid_19.columns"
   ]
  },
  {
   "cell_type": "code",
   "execution_count": 31,
   "id": "1e264423",
   "metadata": {},
   "outputs": [],
   "source": [
    "covid_19.rename(columns = {'Province/State':'Province', 'Country/Region':'Country'}, inplace = True)"
   ]
  },
  {
   "cell_type": "code",
   "execution_count": 32,
   "id": "6a296d16",
   "metadata": {},
   "outputs": [
    {
     "data": {
      "text/html": [
       "<div>\n",
       "<style scoped>\n",
       "    .dataframe tbody tr th:only-of-type {\n",
       "        vertical-align: middle;\n",
       "    }\n",
       "\n",
       "    .dataframe tbody tr th {\n",
       "        vertical-align: top;\n",
       "    }\n",
       "\n",
       "    .dataframe thead th {\n",
       "        text-align: right;\n",
       "    }\n",
       "</style>\n",
       "<table border=\"1\" class=\"dataframe\">\n",
       "  <thead>\n",
       "    <tr style=\"text-align: right;\">\n",
       "      <th></th>\n",
       "      <th>ObservationDate</th>\n",
       "      <th>Province</th>\n",
       "      <th>Country</th>\n",
       "      <th>Last Update</th>\n",
       "      <th>Confirmed</th>\n",
       "      <th>Deaths</th>\n",
       "      <th>Recovered</th>\n",
       "    </tr>\n",
       "  </thead>\n",
       "  <tbody>\n",
       "    <tr>\n",
       "      <th>0</th>\n",
       "      <td>01/22/2020</td>\n",
       "      <td>Anhui</td>\n",
       "      <td>Mainland China</td>\n",
       "      <td>1/22/2020 17:00</td>\n",
       "      <td>1.0</td>\n",
       "      <td>0.0</td>\n",
       "      <td>0.0</td>\n",
       "    </tr>\n",
       "    <tr>\n",
       "      <th>1</th>\n",
       "      <td>01/22/2020</td>\n",
       "      <td>Beijing</td>\n",
       "      <td>Mainland China</td>\n",
       "      <td>1/22/2020 17:00</td>\n",
       "      <td>14.0</td>\n",
       "      <td>0.0</td>\n",
       "      <td>0.0</td>\n",
       "    </tr>\n",
       "    <tr>\n",
       "      <th>2</th>\n",
       "      <td>01/22/2020</td>\n",
       "      <td>Chongqing</td>\n",
       "      <td>Mainland China</td>\n",
       "      <td>1/22/2020 17:00</td>\n",
       "      <td>6.0</td>\n",
       "      <td>0.0</td>\n",
       "      <td>0.0</td>\n",
       "    </tr>\n",
       "    <tr>\n",
       "      <th>3</th>\n",
       "      <td>01/22/2020</td>\n",
       "      <td>Fujian</td>\n",
       "      <td>Mainland China</td>\n",
       "      <td>1/22/2020 17:00</td>\n",
       "      <td>1.0</td>\n",
       "      <td>0.0</td>\n",
       "      <td>0.0</td>\n",
       "    </tr>\n",
       "    <tr>\n",
       "      <th>4</th>\n",
       "      <td>01/22/2020</td>\n",
       "      <td>Gansu</td>\n",
       "      <td>Mainland China</td>\n",
       "      <td>1/22/2020 17:00</td>\n",
       "      <td>0.0</td>\n",
       "      <td>0.0</td>\n",
       "      <td>0.0</td>\n",
       "    </tr>\n",
       "  </tbody>\n",
       "</table>\n",
       "</div>"
      ],
      "text/plain": [
       "  ObservationDate   Province         Country      Last Update  Confirmed  \\\n",
       "0      01/22/2020      Anhui  Mainland China  1/22/2020 17:00        1.0   \n",
       "1      01/22/2020    Beijing  Mainland China  1/22/2020 17:00       14.0   \n",
       "2      01/22/2020  Chongqing  Mainland China  1/22/2020 17:00        6.0   \n",
       "3      01/22/2020     Fujian  Mainland China  1/22/2020 17:00        1.0   \n",
       "4      01/22/2020      Gansu  Mainland China  1/22/2020 17:00        0.0   \n",
       "\n",
       "   Deaths  Recovered  \n",
       "0     0.0        0.0  \n",
       "1     0.0        0.0  \n",
       "2     0.0        0.0  \n",
       "3     0.0        0.0  \n",
       "4     0.0        0.0  "
      ]
     },
     "execution_count": 32,
     "metadata": {},
     "output_type": "execute_result"
    }
   ],
   "source": [
    "covid_19.head()"
   ]
  },
  {
   "cell_type": "code",
   "execution_count": 33,
   "id": "dde87488",
   "metadata": {},
   "outputs": [
    {
     "data": {
      "text/plain": [
       "Russia            30129\n",
       "US                26740\n",
       "Japan             17932\n",
       "Mainland China    15758\n",
       "India             13050\n",
       "Colombia          12419\n",
       "Mexico            12199\n",
       "Brazil            10144\n",
       "Ukraine            9801\n",
       "Peru               9542\n",
       "Italy              8001\n",
       "Spain              7615\n",
       "Sweden             7539\n",
       "Canada             6960\n",
       "UK                 6553\n",
       "Germany            6481\n",
       "Chile              6375\n",
       "Netherlands        5864\n",
       "France             4544\n",
       "Australia          3785\n",
       "Pakistan           2478\n",
       "Belgium            2388\n",
       "Denmark             893\n",
       "Hong Kong           494\n",
       "Macau               494\n",
       "Taiwan               49\n",
       "China                48\n",
       "Others               46\n",
       "Israel                5\n",
       "Austria               1\n",
       "Iraq                  1\n",
       "Lebanon               1\n",
       "Name: Country, dtype: int64"
      ]
     },
     "execution_count": 33,
     "metadata": {},
     "output_type": "execute_result"
    }
   ],
   "source": [
    "covid_19.Country.value_counts(ascending= False)"
   ]
  },
  {
   "cell_type": "code",
   "execution_count": 34,
   "id": "abfb1709",
   "metadata": {},
   "outputs": [],
   "source": [
    "# we saw that Russia is the top country where covid cases are showed\n",
    "#while Austria,Iraq and Lebanon is the countries where the cases are just 1"
   ]
  },
  {
   "cell_type": "code",
   "execution_count": 35,
   "id": "96621661",
   "metadata": {},
   "outputs": [],
   "source": [
    "country_names=covid_19.Country.value_counts().index"
   ]
  },
  {
   "cell_type": "code",
   "execution_count": 36,
   "id": "c129339d",
   "metadata": {},
   "outputs": [],
   "source": [
    "country_values=covid_19.Country.value_counts().values"
   ]
  },
  {
   "cell_type": "code",
   "execution_count": 37,
   "id": "80c17f39",
   "metadata": {},
   "outputs": [
    {
     "data": {
      "text/plain": [
       "([<matplotlib.patches.Wedge at 0x7fd168cb84f0>,\n",
       "  <matplotlib.patches.Wedge at 0x7fd168cb8a30>,\n",
       "  <matplotlib.patches.Wedge at 0x7fd168cb8f10>,\n",
       "  <matplotlib.patches.Wedge at 0x7fd168cc4430>,\n",
       "  <matplotlib.patches.Wedge at 0x7fd168cc4910>,\n",
       "  <matplotlib.patches.Wedge at 0x7fd168cc4d90>,\n",
       "  <matplotlib.patches.Wedge at 0x7fd168cce2b0>,\n",
       "  <matplotlib.patches.Wedge at 0x7fd168cce790>,\n",
       "  <matplotlib.patches.Wedge at 0x7fd168cceca0>,\n",
       "  <matplotlib.patches.Wedge at 0x7fd168cd81c0>],\n",
       " [Text(0.9077721068693732, 0.6212485830888788, 'Russia'),\n",
       "  Text(-0.17760080621187313, 1.08556803270587, 'US'),\n",
       "  Text(-0.9552645397988597, 0.5454077914761328, 'Japan'),\n",
       "  Text(-1.0872664103192045, -0.1668884447515503, 'Mainland China'),\n",
       "  Text(-0.8225118136939842, -0.730393261424168, 'India'),\n",
       "  Text(-0.36405289168628335, -1.0380103525759536, 'Colombia'),\n",
       "  Text(0.16771140200144483, -1.0871397728161314, 'Mexico'),\n",
       "  Text(0.6194028958910812, -0.9090324815768371, 'Brazil'),\n",
       "  Text(0.9228863324431144, -0.5985656333182666, 'Ukraine'),\n",
       "  Text(1.0801896164392375, -0.20782298365881768, 'Peru')])"
      ]
     },
     "execution_count": 37,
     "metadata": {},
     "output_type": "execute_result"
    },
    {
     "data": {
      "image/png": "[encoded data removed]",
      "text/plain": [
       "<Figure size 2160x720 with 1 Axes>"
      ]
     },
     "metadata": {},
     "output_type": "display_data"
    }
   ],
   "source": [
    "#Pie chart\n",
    "plt.pie(country_values[ :10],labels=country_names[ :10])"
   ]
  },
  {
   "cell_type": "code",
   "execution_count": 38,
   "id": "924d234a",
   "metadata": {},
   "outputs": [],
   "source": [
    "#lets check in percentage use autopercentage parametre"
   ]
  },
  {
   "cell_type": "code",
   "execution_count": 39,
   "id": "a87ffd6a",
   "metadata": {},
   "outputs": [
    {
     "data": {
      "text/plain": [
       "([<matplotlib.patches.Wedge at 0x7fd168c8d100>,\n",
       "  <matplotlib.patches.Wedge at 0x7fd168c8d880>,\n",
       "  <matplotlib.patches.Wedge at 0x7fd168c8dfd0>,\n",
       "  <matplotlib.patches.Wedge at 0x7fd168c9a6d0>,\n",
       "  <matplotlib.patches.Wedge at 0x7fd168c9ad30>,\n",
       "  <matplotlib.patches.Wedge at 0x7fd168ca8370>,\n",
       "  <matplotlib.patches.Wedge at 0x7fd168ca8a90>,\n",
       "  <matplotlib.patches.Wedge at 0x7fd168c361f0>,\n",
       "  <matplotlib.patches.Wedge at 0x7fd168c36910>,\n",
       "  <matplotlib.patches.Wedge at 0x7fd168c36fd0>],\n",
       " [Text(0.9077721068693732, 0.6212485830888788, 'Russia'),\n",
       "  Text(-0.17760080621187313, 1.08556803270587, 'US'),\n",
       "  Text(-0.9552645397988597, 0.5454077914761328, 'Japan'),\n",
       "  Text(-1.0872664103192045, -0.1668884447515503, 'Mainland China'),\n",
       "  Text(-0.8225118136939842, -0.730393261424168, 'India'),\n",
       "  Text(-0.36405289168628335, -1.0380103525759536, 'Colombia'),\n",
       "  Text(0.16771140200144483, -1.0871397728161314, 'Mexico'),\n",
       "  Text(0.6194028958910812, -0.9090324815768371, 'Brazil'),\n",
       "  Text(0.9228863324431144, -0.5985656333182666, 'Ukraine'),\n",
       "  Text(1.0801896164392375, -0.20782298365881768, 'Peru')],\n",
       " [Text(0.4951484219287489, 0.33886286350302475, \"'19.10%'\"),\n",
       "  Text(-0.09687316702465806, 0.5921280178395654, \"'16.95%'\"),\n",
       "  Text(-0.5210533853448326, 0.29749515898698153, \"'11.37%'\"),\n",
       "  Text(-0.593054405628657, -0.09103006077357287, \"'9.99%'\"),\n",
       "  Text(-0.44864280746944585, -0.3983963244131825, \"'8.27%'\"),\n",
       "  Text(-0.19857430455615452, -0.5661874650414291, \"'7.87%'\"),\n",
       "  Text(0.09147894654624263, -0.5929853306269807, \"'7.73%'\"),\n",
       "  Text(0.3378561250314988, -0.49583589904191105, \"'6.43%'\"),\n",
       "  Text(0.5033925449689713, -0.3264903454463272, \"'6.21%'\"),\n",
       "  Text(0.5891943362395841, -0.11335799108662781, \"'6.05%'\")])"
      ]
     },
     "execution_count": 39,
     "metadata": {},
     "output_type": "execute_result"
    },
    {
     "data": {
      "image/png": "[encoded data removed]",
      "text/plain": [
       "<Figure size 2160x720 with 1 Axes>"
      ]
     },
     "metadata": {},
     "output_type": "display_data"
    }
   ],
   "source": [
    "plt.pie(country_values[ :10],labels=country_names[ :10],autopct=\"'%1.2f%%'\")"
   ]
  },
  {
   "cell_type": "markdown",
   "id": "1cc68e95",
   "metadata": {},
   "source": [
    "+ Observation= The most covid_19 records are from russia 19.10%\n",
    "+ Then 16.95% from US and 11.37% from Japan"
   ]
  },
  {
   "cell_type": "code",
   "execution_count": 40,
   "id": "9b04969e",
   "metadata": {},
   "outputs": [
    {
     "data": {
      "text/plain": [
       "Index(['ObservationDate', 'Province', 'Country', 'Last Update', 'Confirmed',\n",
       "       'Deaths', 'Recovered'],\n",
       "      dtype='object')"
      ]
     },
     "execution_count": 40,
     "metadata": {},
     "output_type": "execute_result"
    }
   ],
   "source": [
    "covid_19.columns"
   ]
  },
  {
   "cell_type": "code",
   "execution_count": 41,
   "id": "a6ed50ee",
   "metadata": {},
   "outputs": [],
   "source": [
    "cases_observed=covid_19.groupby(['ObservationDate','Country']).size().reset_index()"
   ]
  },
  {
   "cell_type": "code",
   "execution_count": 42,
   "id": "d464e163",
   "metadata": {},
   "outputs": [
    {
     "data": {
      "text/plain": [
       "Index(['ObservationDate', 'Province', 'Country', 'Last Update', 'Confirmed',\n",
       "       'Deaths', 'Recovered'],\n",
       "      dtype='object')"
      ]
     },
     "execution_count": 42,
     "metadata": {},
     "output_type": "execute_result"
    }
   ],
   "source": [
    "covid_19.columns"
   ]
  },
  {
   "cell_type": "code",
   "execution_count": 43,
   "id": "af5ea500",
   "metadata": {},
   "outputs": [],
   "source": [
    "cases_observed=covid_19.groupby(['Country','ObservationDate','Confirmed','Deaths','Recovered']).size().reset_index().rename(columns={0:'cases'})"
   ]
  },
  {
   "cell_type": "code",
   "execution_count": 44,
   "id": "18925518",
   "metadata": {
    "scrolled": false
   },
   "outputs": [
    {
     "data": {
      "text/html": [
       "<div>\n",
       "<style scoped>\n",
       "    .dataframe tbody tr th:only-of-type {\n",
       "        vertical-align: middle;\n",
       "    }\n",
       "\n",
       "    .dataframe tbody tr th {\n",
       "        vertical-align: top;\n",
       "    }\n",
       "\n",
       "    .dataframe thead th {\n",
       "        text-align: right;\n",
       "    }\n",
       "</style>\n",
       "<table border=\"1\" class=\"dataframe\">\n",
       "  <thead>\n",
       "    <tr style=\"text-align: right;\">\n",
       "      <th></th>\n",
       "      <th>Country</th>\n",
       "      <th>ObservationDate</th>\n",
       "      <th>Confirmed</th>\n",
       "      <th>Deaths</th>\n",
       "      <th>Recovered</th>\n",
       "      <th>cases</th>\n",
       "    </tr>\n",
       "  </thead>\n",
       "  <tbody>\n",
       "    <tr>\n",
       "      <th>0</th>\n",
       "      <td>Australia</td>\n",
       "      <td>01/01/2021</td>\n",
       "      <td>75.0</td>\n",
       "      <td>0.0</td>\n",
       "      <td>71.0</td>\n",
       "      <td>1</td>\n",
       "    </tr>\n",
       "    <tr>\n",
       "      <th>1</th>\n",
       "      <td>Australia</td>\n",
       "      <td>01/01/2021</td>\n",
       "      <td>118.0</td>\n",
       "      <td>3.0</td>\n",
       "      <td>114.0</td>\n",
       "      <td>1</td>\n",
       "    </tr>\n",
       "    <tr>\n",
       "      <th>2</th>\n",
       "      <td>Australia</td>\n",
       "      <td>01/01/2021</td>\n",
       "      <td>234.0</td>\n",
       "      <td>13.0</td>\n",
       "      <td>221.0</td>\n",
       "      <td>1</td>\n",
       "    </tr>\n",
       "    <tr>\n",
       "      <th>3</th>\n",
       "      <td>Australia</td>\n",
       "      <td>01/01/2021</td>\n",
       "      <td>580.0</td>\n",
       "      <td>4.0</td>\n",
       "      <td>566.0</td>\n",
       "      <td>1</td>\n",
       "    </tr>\n",
       "    <tr>\n",
       "      <th>4</th>\n",
       "      <td>Australia</td>\n",
       "      <td>01/01/2021</td>\n",
       "      <td>863.0</td>\n",
       "      <td>9.0</td>\n",
       "      <td>838.0</td>\n",
       "      <td>1</td>\n",
       "    </tr>\n",
       "    <tr>\n",
       "      <th>5</th>\n",
       "      <td>Australia</td>\n",
       "      <td>01/01/2021</td>\n",
       "      <td>1255.0</td>\n",
       "      <td>6.0</td>\n",
       "      <td>1224.0</td>\n",
       "      <td>1</td>\n",
       "    </tr>\n",
       "    <tr>\n",
       "      <th>6</th>\n",
       "      <td>Australia</td>\n",
       "      <td>01/01/2021</td>\n",
       "      <td>4947.0</td>\n",
       "      <td>54.0</td>\n",
       "      <td>0.0</td>\n",
       "      <td>1</td>\n",
       "    </tr>\n",
       "    <tr>\n",
       "      <th>7</th>\n",
       "      <td>Australia</td>\n",
       "      <td>01/01/2021</td>\n",
       "      <td>20388.0</td>\n",
       "      <td>820.0</td>\n",
       "      <td>19539.0</td>\n",
       "      <td>1</td>\n",
       "    </tr>\n",
       "    <tr>\n",
       "      <th>8</th>\n",
       "      <td>Australia</td>\n",
       "      <td>01/02/2021</td>\n",
       "      <td>81.0</td>\n",
       "      <td>0.0</td>\n",
       "      <td>71.0</td>\n",
       "      <td>1</td>\n",
       "    </tr>\n",
       "  </tbody>\n",
       "</table>\n",
       "</div>"
      ],
      "text/plain": [
       "     Country ObservationDate  Confirmed  Deaths  Recovered  cases\n",
       "0  Australia      01/01/2021       75.0     0.0       71.0      1\n",
       "1  Australia      01/01/2021      118.0     3.0      114.0      1\n",
       "2  Australia      01/01/2021      234.0    13.0      221.0      1\n",
       "3  Australia      01/01/2021      580.0     4.0      566.0      1\n",
       "4  Australia      01/01/2021      863.0     9.0      838.0      1\n",
       "5  Australia      01/01/2021     1255.0     6.0     1224.0      1\n",
       "6  Australia      01/01/2021     4947.0    54.0        0.0      1\n",
       "7  Australia      01/01/2021    20388.0   820.0    19539.0      1\n",
       "8  Australia      01/02/2021       81.0     0.0       71.0      1"
      ]
     },
     "execution_count": 44,
     "metadata": {},
     "output_type": "execute_result"
    }
   ],
   "source": [
    "cases_observed.head(9)"
   ]
  },
  {
   "cell_type": "code",
   "execution_count": 45,
   "id": "539810a5",
   "metadata": {},
   "outputs": [
    {
     "data": {
      "text/html": [
       "<div>\n",
       "<style scoped>\n",
       "    .dataframe tbody tr th:only-of-type {\n",
       "        vertical-align: middle;\n",
       "    }\n",
       "\n",
       "    .dataframe tbody tr th {\n",
       "        vertical-align: top;\n",
       "    }\n",
       "\n",
       "    .dataframe thead th {\n",
       "        text-align: right;\n",
       "    }\n",
       "</style>\n",
       "<table border=\"1\" class=\"dataframe\">\n",
       "  <thead>\n",
       "    <tr style=\"text-align: right;\">\n",
       "      <th></th>\n",
       "      <th>Country</th>\n",
       "      <th>ObservationDate</th>\n",
       "      <th>Confirmed</th>\n",
       "      <th>Deaths</th>\n",
       "      <th>Recovered</th>\n",
       "      <th>cases</th>\n",
       "    </tr>\n",
       "  </thead>\n",
       "  <tbody>\n",
       "    <tr>\n",
       "      <th>226942</th>\n",
       "      <td>Ukraine</td>\n",
       "      <td>12/30/2020</td>\n",
       "      <td>110139.0</td>\n",
       "      <td>1897.0</td>\n",
       "      <td>38856.0</td>\n",
       "      <td>1</td>\n",
       "    </tr>\n",
       "    <tr>\n",
       "      <th>226943</th>\n",
       "      <td>Ukraine</td>\n",
       "      <td>12/31/2020</td>\n",
       "      <td>6763.0</td>\n",
       "      <td>239.0</td>\n",
       "      <td>6365.0</td>\n",
       "      <td>1</td>\n",
       "    </tr>\n",
       "    <tr>\n",
       "      <th>226944</th>\n",
       "      <td>Ukraine</td>\n",
       "      <td>12/31/2020</td>\n",
       "      <td>8448.0</td>\n",
       "      <td>253.0</td>\n",
       "      <td>4191.0</td>\n",
       "      <td>1</td>\n",
       "    </tr>\n",
       "    <tr>\n",
       "      <th>226945</th>\n",
       "      <td>Ukraine</td>\n",
       "      <td>12/31/2020</td>\n",
       "      <td>10508.0</td>\n",
       "      <td>293.0</td>\n",
       "      <td>7519.0</td>\n",
       "      <td>1</td>\n",
       "    </tr>\n",
       "    <tr>\n",
       "      <th>226946</th>\n",
       "      <td>Ukraine</td>\n",
       "      <td>12/31/2020</td>\n",
       "      <td>17752.0</td>\n",
       "      <td>431.0</td>\n",
       "      <td>9273.0</td>\n",
       "      <td>1</td>\n",
       "    </tr>\n",
       "    <tr>\n",
       "      <th>226947</th>\n",
       "      <td>Ukraine</td>\n",
       "      <td>12/31/2020</td>\n",
       "      <td>22500.0</td>\n",
       "      <td>395.0</td>\n",
       "      <td>15237.0</td>\n",
       "      <td>1</td>\n",
       "    </tr>\n",
       "    <tr>\n",
       "      <th>226948</th>\n",
       "      <td>Ukraine</td>\n",
       "      <td>12/31/2020</td>\n",
       "      <td>25187.0</td>\n",
       "      <td>509.0</td>\n",
       "      <td>20253.0</td>\n",
       "      <td>1</td>\n",
       "    </tr>\n",
       "    <tr>\n",
       "      <th>226949</th>\n",
       "      <td>Ukraine</td>\n",
       "      <td>12/31/2020</td>\n",
       "      <td>28200.0</td>\n",
       "      <td>637.0</td>\n",
       "      <td>23526.0</td>\n",
       "      <td>1</td>\n",
       "    </tr>\n",
       "    <tr>\n",
       "      <th>226950</th>\n",
       "      <td>Ukraine</td>\n",
       "      <td>12/31/2020</td>\n",
       "      <td>29897.0</td>\n",
       "      <td>442.0</td>\n",
       "      <td>16908.0</td>\n",
       "      <td>1</td>\n",
       "    </tr>\n",
       "    <tr>\n",
       "      <th>226951</th>\n",
       "      <td>Ukraine</td>\n",
       "      <td>12/31/2020</td>\n",
       "      <td>30900.0</td>\n",
       "      <td>508.0</td>\n",
       "      <td>14208.0</td>\n",
       "      <td>1</td>\n",
       "    </tr>\n",
       "    <tr>\n",
       "      <th>226952</th>\n",
       "      <td>Ukraine</td>\n",
       "      <td>12/31/2020</td>\n",
       "      <td>33016.0</td>\n",
       "      <td>515.0</td>\n",
       "      <td>28605.0</td>\n",
       "      <td>1</td>\n",
       "    </tr>\n",
       "    <tr>\n",
       "      <th>226953</th>\n",
       "      <td>Ukraine</td>\n",
       "      <td>12/31/2020</td>\n",
       "      <td>34023.0</td>\n",
       "      <td>460.0</td>\n",
       "      <td>30151.0</td>\n",
       "      <td>1</td>\n",
       "    </tr>\n",
       "    <tr>\n",
       "      <th>226954</th>\n",
       "      <td>Ukraine</td>\n",
       "      <td>12/31/2020</td>\n",
       "      <td>36079.0</td>\n",
       "      <td>744.0</td>\n",
       "      <td>28021.0</td>\n",
       "      <td>1</td>\n",
       "    </tr>\n",
       "    <tr>\n",
       "      <th>226955</th>\n",
       "      <td>Ukraine</td>\n",
       "      <td>12/31/2020</td>\n",
       "      <td>36391.0</td>\n",
       "      <td>704.0</td>\n",
       "      <td>27642.0</td>\n",
       "      <td>1</td>\n",
       "    </tr>\n",
       "    <tr>\n",
       "      <th>226956</th>\n",
       "      <td>Ukraine</td>\n",
       "      <td>12/31/2020</td>\n",
       "      <td>39011.0</td>\n",
       "      <td>384.0</td>\n",
       "      <td>22741.0</td>\n",
       "      <td>1</td>\n",
       "    </tr>\n",
       "    <tr>\n",
       "      <th>226957</th>\n",
       "      <td>Ukraine</td>\n",
       "      <td>12/31/2020</td>\n",
       "      <td>39187.0</td>\n",
       "      <td>674.0</td>\n",
       "      <td>33429.0</td>\n",
       "      <td>1</td>\n",
       "    </tr>\n",
       "    <tr>\n",
       "      <th>226958</th>\n",
       "      <td>Ukraine</td>\n",
       "      <td>12/31/2020</td>\n",
       "      <td>39202.0</td>\n",
       "      <td>655.0</td>\n",
       "      <td>31998.0</td>\n",
       "      <td>1</td>\n",
       "    </tr>\n",
       "    <tr>\n",
       "      <th>226959</th>\n",
       "      <td>Ukraine</td>\n",
       "      <td>12/31/2020</td>\n",
       "      <td>40017.0</td>\n",
       "      <td>784.0</td>\n",
       "      <td>28840.0</td>\n",
       "      <td>1</td>\n",
       "    </tr>\n",
       "    <tr>\n",
       "      <th>226960</th>\n",
       "      <td>Ukraine</td>\n",
       "      <td>12/31/2020</td>\n",
       "      <td>40642.0</td>\n",
       "      <td>527.0</td>\n",
       "      <td>34186.0</td>\n",
       "      <td>1</td>\n",
       "    </tr>\n",
       "    <tr>\n",
       "      <th>226961</th>\n",
       "      <td>Ukraine</td>\n",
       "      <td>12/31/2020</td>\n",
       "      <td>40990.0</td>\n",
       "      <td>516.0</td>\n",
       "      <td>36712.0</td>\n",
       "      <td>1</td>\n",
       "    </tr>\n",
       "    <tr>\n",
       "      <th>226962</th>\n",
       "      <td>Ukraine</td>\n",
       "      <td>12/31/2020</td>\n",
       "      <td>43190.0</td>\n",
       "      <td>805.0</td>\n",
       "      <td>29083.0</td>\n",
       "      <td>1</td>\n",
       "    </tr>\n",
       "    <tr>\n",
       "      <th>226963</th>\n",
       "      <td>Ukraine</td>\n",
       "      <td>12/31/2020</td>\n",
       "      <td>54088.0</td>\n",
       "      <td>594.0</td>\n",
       "      <td>20530.0</td>\n",
       "      <td>1</td>\n",
       "    </tr>\n",
       "    <tr>\n",
       "      <th>226964</th>\n",
       "      <td>Ukraine</td>\n",
       "      <td>12/31/2020</td>\n",
       "      <td>58561.0</td>\n",
       "      <td>1409.0</td>\n",
       "      <td>44906.0</td>\n",
       "      <td>1</td>\n",
       "    </tr>\n",
       "    <tr>\n",
       "      <th>226965</th>\n",
       "      <td>Ukraine</td>\n",
       "      <td>12/31/2020</td>\n",
       "      <td>59204.0</td>\n",
       "      <td>966.0</td>\n",
       "      <td>34965.0</td>\n",
       "      <td>1</td>\n",
       "    </tr>\n",
       "    <tr>\n",
       "      <th>226966</th>\n",
       "      <td>Ukraine</td>\n",
       "      <td>12/31/2020</td>\n",
       "      <td>61268.0</td>\n",
       "      <td>1771.0</td>\n",
       "      <td>46381.0</td>\n",
       "      <td>1</td>\n",
       "    </tr>\n",
       "    <tr>\n",
       "      <th>226967</th>\n",
       "      <td>Ukraine</td>\n",
       "      <td>12/31/2020</td>\n",
       "      <td>69377.0</td>\n",
       "      <td>1092.0</td>\n",
       "      <td>56551.0</td>\n",
       "      <td>1</td>\n",
       "    </tr>\n",
       "    <tr>\n",
       "      <th>226968</th>\n",
       "      <td>Ukraine</td>\n",
       "      <td>12/31/2020</td>\n",
       "      <td>71125.0</td>\n",
       "      <td>1055.0</td>\n",
       "      <td>45016.0</td>\n",
       "      <td>1</td>\n",
       "    </tr>\n",
       "    <tr>\n",
       "      <th>226969</th>\n",
       "      <td>Ukraine</td>\n",
       "      <td>12/31/2020</td>\n",
       "      <td>111471.0</td>\n",
       "      <td>1919.0</td>\n",
       "      <td>39374.0</td>\n",
       "      <td>1</td>\n",
       "    </tr>\n",
       "  </tbody>\n",
       "</table>\n",
       "</div>"
      ],
      "text/plain": [
       "        Country ObservationDate  Confirmed  Deaths  Recovered  cases\n",
       "226942  Ukraine      12/30/2020   110139.0  1897.0    38856.0      1\n",
       "226943  Ukraine      12/31/2020     6763.0   239.0     6365.0      1\n",
       "226944  Ukraine      12/31/2020     8448.0   253.0     4191.0      1\n",
       "226945  Ukraine      12/31/2020    10508.0   293.0     7519.0      1\n",
       "226946  Ukraine      12/31/2020    17752.0   431.0     9273.0      1\n",
       "226947  Ukraine      12/31/2020    22500.0   395.0    15237.0      1\n",
       "226948  Ukraine      12/31/2020    25187.0   509.0    20253.0      1\n",
       "226949  Ukraine      12/31/2020    28200.0   637.0    23526.0      1\n",
       "226950  Ukraine      12/31/2020    29897.0   442.0    16908.0      1\n",
       "226951  Ukraine      12/31/2020    30900.0   508.0    14208.0      1\n",
       "226952  Ukraine      12/31/2020    33016.0   515.0    28605.0      1\n",
       "226953  Ukraine      12/31/2020    34023.0   460.0    30151.0      1\n",
       "226954  Ukraine      12/31/2020    36079.0   744.0    28021.0      1\n",
       "226955  Ukraine      12/31/2020    36391.0   704.0    27642.0      1\n",
       "226956  Ukraine      12/31/2020    39011.0   384.0    22741.0      1\n",
       "226957  Ukraine      12/31/2020    39187.0   674.0    33429.0      1\n",
       "226958  Ukraine      12/31/2020    39202.0   655.0    31998.0      1\n",
       "226959  Ukraine      12/31/2020    40017.0   784.0    28840.0      1\n",
       "226960  Ukraine      12/31/2020    40642.0   527.0    34186.0      1\n",
       "226961  Ukraine      12/31/2020    40990.0   516.0    36712.0      1\n",
       "226962  Ukraine      12/31/2020    43190.0   805.0    29083.0      1\n",
       "226963  Ukraine      12/31/2020    54088.0   594.0    20530.0      1\n",
       "226964  Ukraine      12/31/2020    58561.0  1409.0    44906.0      1\n",
       "226965  Ukraine      12/31/2020    59204.0   966.0    34965.0      1\n",
       "226966  Ukraine      12/31/2020    61268.0  1771.0    46381.0      1\n",
       "226967  Ukraine      12/31/2020    69377.0  1092.0    56551.0      1\n",
       "226968  Ukraine      12/31/2020    71125.0  1055.0    45016.0      1\n",
       "226969  Ukraine      12/31/2020   111471.0  1919.0    39374.0      1"
      ]
     },
     "execution_count": 45,
     "metadata": {},
     "output_type": "execute_result"
    }
   ],
   "source": [
    "cases_observed.tail(28)"
   ]
  },
  {
   "cell_type": "code",
   "execution_count": 54,
   "id": "be092289",
   "metadata": {},
   "outputs": [
    {
     "data": {
      "text/html": [
       "<div>\n",
       "<style scoped>\n",
       "    .dataframe tbody tr th:only-of-type {\n",
       "        vertical-align: middle;\n",
       "    }\n",
       "\n",
       "    .dataframe tbody tr th {\n",
       "        vertical-align: top;\n",
       "    }\n",
       "\n",
       "    .dataframe thead th {\n",
       "        text-align: right;\n",
       "    }\n",
       "</style>\n",
       "<table border=\"1\" class=\"dataframe\">\n",
       "  <thead>\n",
       "    <tr style=\"text-align: right;\">\n",
       "      <th></th>\n",
       "      <th>ObservationDate</th>\n",
       "      <th>Province</th>\n",
       "      <th>Country</th>\n",
       "      <th>Last Update</th>\n",
       "      <th>Confirmed</th>\n",
       "      <th>Deaths</th>\n",
       "      <th>Recovered</th>\n",
       "    </tr>\n",
       "  </thead>\n",
       "  <tbody>\n",
       "    <tr>\n",
       "      <th>0</th>\n",
       "      <td>01/22/2020</td>\n",
       "      <td>Anhui</td>\n",
       "      <td>Mainland China</td>\n",
       "      <td>1/22/2020 17:00</td>\n",
       "      <td>1.0</td>\n",
       "      <td>0.0</td>\n",
       "      <td>0.0</td>\n",
       "    </tr>\n",
       "    <tr>\n",
       "      <th>1</th>\n",
       "      <td>01/22/2020</td>\n",
       "      <td>Beijing</td>\n",
       "      <td>Mainland China</td>\n",
       "      <td>1/22/2020 17:00</td>\n",
       "      <td>14.0</td>\n",
       "      <td>0.0</td>\n",
       "      <td>0.0</td>\n",
       "    </tr>\n",
       "    <tr>\n",
       "      <th>2</th>\n",
       "      <td>01/22/2020</td>\n",
       "      <td>Chongqing</td>\n",
       "      <td>Mainland China</td>\n",
       "      <td>1/22/2020 17:00</td>\n",
       "      <td>6.0</td>\n",
       "      <td>0.0</td>\n",
       "      <td>0.0</td>\n",
       "    </tr>\n",
       "    <tr>\n",
       "      <th>3</th>\n",
       "      <td>01/22/2020</td>\n",
       "      <td>Fujian</td>\n",
       "      <td>Mainland China</td>\n",
       "      <td>1/22/2020 17:00</td>\n",
       "      <td>1.0</td>\n",
       "      <td>0.0</td>\n",
       "      <td>0.0</td>\n",
       "    </tr>\n",
       "    <tr>\n",
       "      <th>4</th>\n",
       "      <td>01/22/2020</td>\n",
       "      <td>Gansu</td>\n",
       "      <td>Mainland China</td>\n",
       "      <td>1/22/2020 17:00</td>\n",
       "      <td>0.0</td>\n",
       "      <td>0.0</td>\n",
       "      <td>0.0</td>\n",
       "    </tr>\n",
       "  </tbody>\n",
       "</table>\n",
       "</div>"
      ],
      "text/plain": [
       "  ObservationDate   Province         Country      Last Update  Confirmed  \\\n",
       "0      01/22/2020      Anhui  Mainland China  1/22/2020 17:00        1.0   \n",
       "1      01/22/2020    Beijing  Mainland China  1/22/2020 17:00       14.0   \n",
       "2      01/22/2020  Chongqing  Mainland China  1/22/2020 17:00        6.0   \n",
       "3      01/22/2020     Fujian  Mainland China  1/22/2020 17:00        1.0   \n",
       "4      01/22/2020      Gansu  Mainland China  1/22/2020 17:00        0.0   \n",
       "\n",
       "   Deaths  Recovered  \n",
       "0     0.0        0.0  \n",
       "1     0.0        0.0  \n",
       "2     0.0        0.0  \n",
       "3     0.0        0.0  \n",
       "4     0.0        0.0  "
      ]
     },
     "execution_count": 54,
     "metadata": {},
     "output_type": "execute_result"
    }
   ],
   "source": [
    "covid_19.head()"
   ]
  },
  {
   "cell_type": "code",
   "execution_count": 68,
   "id": "b8a21896",
   "metadata": {},
   "outputs": [
    {
     "data": {
      "text/plain": [
       "0                     Anhui\n",
       "1                   Beijing\n",
       "2                 Chongqing\n",
       "3                    Fujian\n",
       "4                     Gansu\n",
       "                ...        \n",
       "306424    Zaporizhia Oblast\n",
       "306425              Zeeland\n",
       "306426             Zhejiang\n",
       "306427      Zhytomyr Oblast\n",
       "306428         Zuid-Holland\n",
       "Name: Province, Length: 228329, dtype: object"
      ]
     },
     "execution_count": 68,
     "metadata": {},
     "output_type": "execute_result"
    }
   ],
   "source": [
    "covid_19[\"Province\"]"
   ]
  },
  {
   "cell_type": "code",
   "execution_count": 70,
   "id": "e4d6a855",
   "metadata": {},
   "outputs": [
    {
     "data": {
      "text/plain": [
       "306419                 Yukon\n",
       "306420                Yunnan\n",
       "306421      Zabaykalsky Krai\n",
       "306422             Zacatecas\n",
       "306423    Zakarpattia Oblast\n",
       "306424     Zaporizhia Oblast\n",
       "306425               Zeeland\n",
       "306426              Zhejiang\n",
       "306427       Zhytomyr Oblast\n",
       "306428          Zuid-Holland\n",
       "Name: Province, dtype: object"
      ]
     },
     "execution_count": 70,
     "metadata": {},
     "output_type": "execute_result"
    }
   ],
   "source": [
    "covid_19[\"Province\"].tail(10)"
   ]
  },
  {
   "cell_type": "code",
   "execution_count": 71,
   "id": "af15d9fe",
   "metadata": {},
   "outputs": [
    {
     "data": {
      "text/plain": [
       "'Zuid-Holland'"
      ]
     },
     "execution_count": 71,
     "metadata": {},
     "output_type": "execute_result"
    }
   ],
   "source": [
    "covid_19[\"Province\"].max()"
   ]
  }
 ],
 "metadata": {
  "kernelspec": {
   "display_name": "Python 3 (ipykernel)",
   "language": "python",
   "name": "python3"
  },
  "language_info": {
   "codemirror_mode": {
    "name": "ipython",
    "version": 3
   },
   "file_extension": ".py",
   "mimetype": "text/x-python",
   "name": "python",
   "nbconvert_exporter": "python",
   "pygments_lexer": "ipython3",
   "version": "3.8.12"
  }
 },
 "nbformat": 4,
 "nbformat_minor": 5
}
